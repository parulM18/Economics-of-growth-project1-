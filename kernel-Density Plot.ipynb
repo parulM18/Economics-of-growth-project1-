{
 "cells": [
  {
   "cell_type": "code",
   "execution_count": 12,
   "metadata": {},
   "outputs": [],
   "source": [
    "import pandas as pd\n",
    "import numpy as np\n",
    "import matplotlib.pyplot as plt\n",
    "%matplotlib inline\n",
    "import seaborn as sns"
   ]
  },
  {
   "cell_type": "code",
   "execution_count": 13,
   "metadata": {},
   "outputs": [],
   "source": [
    "df1=pd.read_csv(\"1980.csv\")"
   ]
  },
  {
   "cell_type": "code",
   "execution_count": 14,
   "metadata": {},
   "outputs": [],
   "source": [
    "df2=pd.read_csv(\"1985.csv\")"
   ]
  },
  {
   "cell_type": "code",
   "execution_count": 15,
   "metadata": {},
   "outputs": [
    {
     "data": {
      "text/html": [
       "<div>\n",
       "<style scoped>\n",
       "    .dataframe tbody tr th:only-of-type {\n",
       "        vertical-align: middle;\n",
       "    }\n",
       "\n",
       "    .dataframe tbody tr th {\n",
       "        vertical-align: top;\n",
       "    }\n",
       "\n",
       "    .dataframe thead th {\n",
       "        text-align: right;\n",
       "    }\n",
       "</style>\n",
       "<table border=\"1\" class=\"dataframe\">\n",
       "  <thead>\n",
       "    <tr style=\"text-align: right;\">\n",
       "      <th></th>\n",
       "      <th>Year</th>\n",
       "      <th>Country</th>\n",
       "      <th>Population (in millions)</th>\n",
       "      <th>Real GDP(in milllion $)</th>\n",
       "      <th>Real GDP per capita</th>\n",
       "      <th>log(Real GDP per capita)</th>\n",
       "    </tr>\n",
       "  </thead>\n",
       "  <tbody>\n",
       "    <tr>\n",
       "      <th>0</th>\n",
       "      <td>1980</td>\n",
       "      <td>Aruba</td>\n",
       "      <td>0.060096</td>\n",
       "      <td>1020.158325</td>\n",
       "      <td>16975.478160</td>\n",
       "      <td>4.229822</td>\n",
       "    </tr>\n",
       "    <tr>\n",
       "      <th>1</th>\n",
       "      <td>1980</td>\n",
       "      <td>Angola</td>\n",
       "      <td>8.929900</td>\n",
       "      <td>25335.568360</td>\n",
       "      <td>2837.161433</td>\n",
       "      <td>3.452884</td>\n",
       "    </tr>\n",
       "    <tr>\n",
       "      <th>2</th>\n",
       "      <td>1980</td>\n",
       "      <td>Anguilla</td>\n",
       "      <td>0.006702</td>\n",
       "      <td>78.456619</td>\n",
       "      <td>11706.449040</td>\n",
       "      <td>4.068425</td>\n",
       "    </tr>\n",
       "    <tr>\n",
       "      <th>3</th>\n",
       "      <td>1980</td>\n",
       "      <td>Albania</td>\n",
       "      <td>2.681239</td>\n",
       "      <td>9050.260742</td>\n",
       "      <td>3375.402608</td>\n",
       "      <td>3.528326</td>\n",
       "    </tr>\n",
       "    <tr>\n",
       "      <th>4</th>\n",
       "      <td>1980</td>\n",
       "      <td>United Arab Emirates</td>\n",
       "      <td>1.042384</td>\n",
       "      <td>264067.000000</td>\n",
       "      <td>253329.860000</td>\n",
       "      <td>5.403686</td>\n",
       "    </tr>\n",
       "  </tbody>\n",
       "</table>\n",
       "</div>"
      ],
      "text/plain": [
       "   Year               Country  Population (in millions)  \\\n",
       "0  1980                 Aruba                  0.060096   \n",
       "1  1980                Angola                  8.929900   \n",
       "2  1980              Anguilla                  0.006702   \n",
       "3  1980               Albania                  2.681239   \n",
       "4  1980  United Arab Emirates                  1.042384   \n",
       "\n",
       "   Real GDP(in milllion $)  Real GDP per capita  log(Real GDP per capita)  \n",
       "0              1020.158325         16975.478160                  4.229822  \n",
       "1             25335.568360          2837.161433                  3.452884  \n",
       "2                78.456619         11706.449040                  4.068425  \n",
       "3              9050.260742          3375.402608                  3.528326  \n",
       "4            264067.000000        253329.860000                  5.403686  "
      ]
     },
     "execution_count": 15,
     "metadata": {},
     "output_type": "execute_result"
    }
   ],
   "source": [
    "df1.head()"
   ]
  },
  {
   "cell_type": "code",
   "execution_count": 16,
   "metadata": {},
   "outputs": [
    {
     "data": {
      "text/plain": [
       "(156, 6)"
      ]
     },
     "execution_count": 16,
     "metadata": {},
     "output_type": "execute_result"
    }
   ],
   "source": [
    "df1.shape"
   ]
  },
  {
   "cell_type": "code",
   "execution_count": 17,
   "metadata": {},
   "outputs": [
    {
     "data": {
      "text/html": [
       "<div>\n",
       "<style scoped>\n",
       "    .dataframe tbody tr th:only-of-type {\n",
       "        vertical-align: middle;\n",
       "    }\n",
       "\n",
       "    .dataframe tbody tr th {\n",
       "        vertical-align: top;\n",
       "    }\n",
       "\n",
       "    .dataframe thead th {\n",
       "        text-align: right;\n",
       "    }\n",
       "</style>\n",
       "<table border=\"1\" class=\"dataframe\">\n",
       "  <thead>\n",
       "    <tr style=\"text-align: right;\">\n",
       "      <th></th>\n",
       "      <th>Year</th>\n",
       "      <th>Country</th>\n",
       "      <th>Population (in millions)</th>\n",
       "      <th>Real GDP(in milllion $)</th>\n",
       "      <th>Real GDP per capita</th>\n",
       "      <th>log(Real GDP per capita)</th>\n",
       "    </tr>\n",
       "  </thead>\n",
       "  <tbody>\n",
       "    <tr>\n",
       "      <th>0</th>\n",
       "      <td>1985</td>\n",
       "      <td>Aruba</td>\n",
       "      <td>0.063026</td>\n",
       "      <td>1576.163574</td>\n",
       "      <td>25008.147200</td>\n",
       "      <td>4.398082</td>\n",
       "    </tr>\n",
       "    <tr>\n",
       "      <th>1</th>\n",
       "      <td>1985</td>\n",
       "      <td>Angola</td>\n",
       "      <td>10.609042</td>\n",
       "      <td>28720.042970</td>\n",
       "      <td>2707.128741</td>\n",
       "      <td>3.432509</td>\n",
       "    </tr>\n",
       "    <tr>\n",
       "      <th>2</th>\n",
       "      <td>1985</td>\n",
       "      <td>Anguilla</td>\n",
       "      <td>0.006662</td>\n",
       "      <td>91.808144</td>\n",
       "      <td>13780.868210</td>\n",
       "      <td>4.139277</td>\n",
       "    </tr>\n",
       "    <tr>\n",
       "      <th>3</th>\n",
       "      <td>1985</td>\n",
       "      <td>Albania</td>\n",
       "      <td>2.966798</td>\n",
       "      <td>9950.552734</td>\n",
       "      <td>3353.970344</td>\n",
       "      <td>3.525559</td>\n",
       "    </tr>\n",
       "    <tr>\n",
       "      <th>4</th>\n",
       "      <td>1985</td>\n",
       "      <td>United Arab Emirates</td>\n",
       "      <td>1.391052</td>\n",
       "      <td>194064.390600</td>\n",
       "      <td>139509.083500</td>\n",
       "      <td>5.144602</td>\n",
       "    </tr>\n",
       "  </tbody>\n",
       "</table>\n",
       "</div>"
      ],
      "text/plain": [
       "   Year               Country  Population (in millions)  \\\n",
       "0  1985                 Aruba                  0.063026   \n",
       "1  1985                Angola                 10.609042   \n",
       "2  1985              Anguilla                  0.006662   \n",
       "3  1985               Albania                  2.966798   \n",
       "4  1985  United Arab Emirates                  1.391052   \n",
       "\n",
       "   Real GDP(in milllion $)  Real GDP per capita  log(Real GDP per capita)  \n",
       "0              1576.163574         25008.147200                  4.398082  \n",
       "1             28720.042970          2707.128741                  3.432509  \n",
       "2                91.808144         13780.868210                  4.139277  \n",
       "3              9950.552734          3353.970344                  3.525559  \n",
       "4            194064.390600        139509.083500                  5.144602  "
      ]
     },
     "execution_count": 17,
     "metadata": {},
     "output_type": "execute_result"
    }
   ],
   "source": [
    "df2.head()"
   ]
  },
  {
   "cell_type": "code",
   "execution_count": 18,
   "metadata": {},
   "outputs": [],
   "source": [
    "df3=pd.concat([df1,df2])"
   ]
  },
  {
   "cell_type": "code",
   "execution_count": 19,
   "metadata": {},
   "outputs": [
    {
     "data": {
      "text/html": [
       "<div>\n",
       "<style scoped>\n",
       "    .dataframe tbody tr th:only-of-type {\n",
       "        vertical-align: middle;\n",
       "    }\n",
       "\n",
       "    .dataframe tbody tr th {\n",
       "        vertical-align: top;\n",
       "    }\n",
       "\n",
       "    .dataframe thead th {\n",
       "        text-align: right;\n",
       "    }\n",
       "</style>\n",
       "<table border=\"1\" class=\"dataframe\">\n",
       "  <thead>\n",
       "    <tr style=\"text-align: right;\">\n",
       "      <th></th>\n",
       "      <th>Year</th>\n",
       "      <th>Country</th>\n",
       "      <th>Population (in millions)</th>\n",
       "      <th>Real GDP(in milllion $)</th>\n",
       "      <th>Real GDP per capita</th>\n",
       "      <th>log(Real GDP per capita)</th>\n",
       "    </tr>\n",
       "  </thead>\n",
       "  <tbody>\n",
       "    <tr>\n",
       "      <th>0</th>\n",
       "      <td>1980</td>\n",
       "      <td>Aruba</td>\n",
       "      <td>0.060096</td>\n",
       "      <td>1020.158325</td>\n",
       "      <td>16975.478160</td>\n",
       "      <td>4.229822</td>\n",
       "    </tr>\n",
       "    <tr>\n",
       "      <th>1</th>\n",
       "      <td>1980</td>\n",
       "      <td>Angola</td>\n",
       "      <td>8.929900</td>\n",
       "      <td>25335.568360</td>\n",
       "      <td>2837.161433</td>\n",
       "      <td>3.452884</td>\n",
       "    </tr>\n",
       "    <tr>\n",
       "      <th>2</th>\n",
       "      <td>1980</td>\n",
       "      <td>Anguilla</td>\n",
       "      <td>0.006702</td>\n",
       "      <td>78.456619</td>\n",
       "      <td>11706.449040</td>\n",
       "      <td>4.068425</td>\n",
       "    </tr>\n",
       "    <tr>\n",
       "      <th>3</th>\n",
       "      <td>1980</td>\n",
       "      <td>Albania</td>\n",
       "      <td>2.681239</td>\n",
       "      <td>9050.260742</td>\n",
       "      <td>3375.402608</td>\n",
       "      <td>3.528326</td>\n",
       "    </tr>\n",
       "    <tr>\n",
       "      <th>4</th>\n",
       "      <td>1980</td>\n",
       "      <td>United Arab Emirates</td>\n",
       "      <td>1.042384</td>\n",
       "      <td>264067.000000</td>\n",
       "      <td>253329.860000</td>\n",
       "      <td>5.403686</td>\n",
       "    </tr>\n",
       "  </tbody>\n",
       "</table>\n",
       "</div>"
      ],
      "text/plain": [
       "   Year               Country  Population (in millions)  \\\n",
       "0  1980                 Aruba                  0.060096   \n",
       "1  1980                Angola                  8.929900   \n",
       "2  1980              Anguilla                  0.006702   \n",
       "3  1980               Albania                  2.681239   \n",
       "4  1980  United Arab Emirates                  1.042384   \n",
       "\n",
       "   Real GDP(in milllion $)  Real GDP per capita  log(Real GDP per capita)  \n",
       "0              1020.158325         16975.478160                  4.229822  \n",
       "1             25335.568360          2837.161433                  3.452884  \n",
       "2                78.456619         11706.449040                  4.068425  \n",
       "3              9050.260742          3375.402608                  3.528326  \n",
       "4            264067.000000        253329.860000                  5.403686  "
      ]
     },
     "execution_count": 19,
     "metadata": {},
     "output_type": "execute_result"
    }
   ],
   "source": [
    "df3.head()"
   ]
  },
  {
   "cell_type": "code",
   "execution_count": 20,
   "metadata": {},
   "outputs": [
    {
     "data": {
      "text/plain": [
       "(312, 6)"
      ]
     },
     "execution_count": 20,
     "metadata": {},
     "output_type": "execute_result"
    }
   ],
   "source": [
    "df3.shape"
   ]
  },
  {
   "cell_type": "code",
   "execution_count": 21,
   "metadata": {},
   "outputs": [
    {
     "data": {
      "text/plain": [
       "Year                          int64\n",
       "Country                      object\n",
       "Population (in millions)    float64\n",
       "Real GDP(in milllion $)     float64\n",
       "Real GDP per capita         float64\n",
       "log(Real GDP per capita)    float64\n",
       "dtype: object"
      ]
     },
     "execution_count": 21,
     "metadata": {},
     "output_type": "execute_result"
    }
   ],
   "source": [
    "df3.dtypes"
   ]
  },
  {
   "cell_type": "code",
   "execution_count": 10,
   "metadata": {},
   "outputs": [],
   "source": [
    "df3.to_csv('1980-85.csv',index=False)"
   ]
  },
  {
   "cell_type": "code",
   "execution_count": 23,
   "metadata": {},
   "outputs": [
    {
     "data": {
      "text/plain": [
       "Text(0.5, 1, 'Kernal Density Plot')"
      ]
     },
     "execution_count": 23,
     "metadata": {},
     "output_type": "execute_result"
    },
    {
     "data": {
      "image/png": "[encoded data removed]",
      "text/plain": [
       "<Figure size 706.25x432 with 1 Axes>"
      ]
     },
     "metadata": {},
     "output_type": "display_data"
    }
   ],
   "source": [
    "sns.set_style(\"whitegrid\")\n",
    "P=sns.FacetGrid(data=df3, hue=\"Year\",height=6,aspect=1.5, legend_out=True).map(sns.kdeplot, \"log(Real GDP per capita)\")\n",
    "P.add_legend()\n",
    "plt.ylabel('Density')\n",
    "plt.title('Kernal Density Plot')"
   ]
  }
 ],
 "metadata": {
  "kernelspec": {
   "display_name": "Python 3",
   "language": "python",
   "name": "python3"
  },
  "language_info": {
   "codemirror_mode": {
    "name": "ipython",
    "version": 3
   },
   "file_extension": ".py",
   "mimetype": "text/x-python",
   "name": "python",
   "nbconvert_exporter": "python",
   "pygments_lexer": "ipython3",
   "version": "3.7.6"
  }
 },
 "nbformat": 4,
 "nbformat_minor": 4
}
